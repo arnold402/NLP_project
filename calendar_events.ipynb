{
  "nbformat": 4,
  "nbformat_minor": 0,
  "metadata": {
    "colab": {
      "name": "calendar_events.ipynb",
      "provenance": [],
      "collapsed_sections": []
    },
    "kernelspec": {
      "name": "python3",
      "display_name": "Python 3"
    },
    "language_info": {
      "name": "python"
    }
  },
  "cells": [
    {
      "cell_type": "code",
      "execution_count": 1,
      "metadata": {
        "id": "UUAwGjrnQgXK"
      },
      "outputs": [],
      "source": [
        "import datetime, re\n",
        "import googleapiclient.discovery\n",
        "import google.auth"
      ]
    },
    {
      "cell_type": "code",
      "source": [
        "from dateutil.parser import parse as dtparse\n",
        "from datetime import datetime as dt"
      ],
      "metadata": {
        "id": "em2_TPHjfDKu"
      },
      "execution_count": 2,
      "outputs": []
    },
    {
      "cell_type": "code",
      "source": [
        "from google.colab import drive\n",
        "drive.mount('/content/gdrive', force_remount=True)"
      ],
      "metadata": {
        "colab": {
          "base_uri": "https://localhost:8080/"
        },
        "id": "zlphMdiYVJoX",
        "outputId": "5a8a4b8d-da0e-49e7-c581-56cceca9a455"
      },
      "execution_count": 3,
      "outputs": [
        {
          "output_type": "stream",
          "name": "stdout",
          "text": [
            "Mounted at /content/gdrive\n"
          ]
        }
      ]
    },
    {
      "cell_type": "code",
      "source": [
        "%cd /content/gdrive/My Drive/module3/CalendarApiQueries"
      ],
      "metadata": {
        "colab": {
          "base_uri": "https://localhost:8080/"
        },
        "id": "RIoYau3zWfUN",
        "outputId": "cf8625a0-c920-4d54-d8c6-cdeb389e17dc"
      },
      "execution_count": 4,
      "outputs": [
        {
          "output_type": "stream",
          "name": "stdout",
          "text": [
            "/content/gdrive/My Drive/module3/CalendarApiQueries\n"
          ]
        }
      ]
    },
    {
      "cell_type": "code",
      "source": [
        "%pwd"
      ],
      "metadata": {
        "colab": {
          "base_uri": "https://localhost:8080/",
          "height": 35
        },
        "id": "5ElZStcKW-a0",
        "outputId": "91b1970e-647e-43cb-a142-14ff227097ee"
      },
      "execution_count": 5,
      "outputs": [
        {
          "output_type": "execute_result",
          "data": {
            "text/plain": [
              "'/content/gdrive/My Drive/module3/CalendarApiQueries'"
            ],
            "application/vnd.google.colaboratory.intrinsic+json": {
              "type": "string"
            }
          },
          "metadata": {},
          "execution_count": 5
        }
      ]
    },
    {
      "cell_type": "code",
      "source": [
        "# Preparation for Google API\n",
        "SCOPES = ['https://www.googleapis.com/auth/calendar.readonly']\n",
        "calendar_id = 'arnold@dsi-program.com'\n",
        "gapi_creds = google.auth.load_credentials_from_file('credentials.json', SCOPES)[0]\n",
        "service = googleapiclient.discovery.build('calendar', 'v3', credentials=gapi_creds)"
      ],
      "metadata": {
        "id": "kFaUc_knRTKV"
      },
      "execution_count": 6,
      "outputs": []
    },
    {
      "cell_type": "code",
      "source": [
        "# Get events from Google Calendar API\n",
        "now = datetime.datetime.utcnow().isoformat() + 'Z'\n",
        "events_result = service.events().list(\n",
        "     calendarId=calendar_id, timeMin=now,\n",
        "     maxResults=5, singleEvents=True,\n",
        "     orderBy='startTime').execute()\n",
        "events_result"
      ],
      "metadata": {
        "colab": {
          "base_uri": "https://localhost:8080/"
        },
        "id": "IICPFwYqRzSB",
        "outputId": "cf94499c-c649-40ac-d448-b91318bbcddb"
      },
      "execution_count": 7,
      "outputs": [
        {
          "output_type": "execute_result",
          "data": {
            "text/plain": [
              "{'accessRole': 'reader',\n",
              " 'defaultReminders': [],\n",
              " 'etag': '\"p32ge1umhn7ufc0g\"',\n",
              " 'items': [{'attendees': [{'email': 'edoardo@dsi-program.com',\n",
              "     'responseStatus': 'accepted'},\n",
              "    {'email': 'antsa@dsi-program.com',\n",
              "     'organizer': True,\n",
              "     'responseStatus': 'accepted'},\n",
              "    {'email': 'arnold@dsi-program.com',\n",
              "     'responseStatus': 'accepted',\n",
              "     'self': True},\n",
              "    {'email': 'mulricharmel@gmail.com', 'responseStatus': 'needsAction'},\n",
              "    {'email': 'nadeem@dsi-program.com', 'responseStatus': 'needsAction'}],\n",
              "   'conferenceData': {'conferenceId': 'gkr-rzbr-vyx',\n",
              "    'conferenceSolution': {'iconUri': 'https://fonts.gstatic.com/s/i/productlogos/meet_2020q4/v6/web-512dp/logo_meet_2020q4_color_2x_web_512dp.png',\n",
              "     'key': {'type': 'hangoutsMeet'},\n",
              "     'name': 'Google Meet'},\n",
              "    'entryPoints': [{'entryPointType': 'video',\n",
              "      'label': 'meet.google.com/gkr-rzbr-vyx',\n",
              "      'uri': 'https://meet.google.com/gkr-rzbr-vyx'},\n",
              "     {'entryPointType': 'more',\n",
              "      'pin': '6332817008342',\n",
              "      'uri': 'https://tel.meet/gkr-rzbr-vyx?pin=6332817008342'},\n",
              "     {'entryPointType': 'phone',\n",
              "      'label': '+27 10 823 0742',\n",
              "      'pin': '440265540',\n",
              "      'regionCode': 'ZA',\n",
              "      'uri': 'tel:+27-10-823-0742'}],\n",
              "    'signature': 'AKpSKUvPDxHxFMaTeQ/DlEL9ayD1'},\n",
              "   'created': '2022-03-30T18:33:49.000Z',\n",
              "   'creator': {'email': 'antsa@dsi-program.com'},\n",
              "   'end': {'dateTime': '2022-04-06T14:00:00+02:00',\n",
              "    'timeZone': 'America/New_York'},\n",
              "   'etag': '\"3297625817864000\"',\n",
              "   'eventType': 'default',\n",
              "   'hangoutLink': 'https://meet.google.com/gkr-rzbr-vyx',\n",
              "   'htmlLink': 'https://www.google.com/calendar/event?eid=NXVxanZta2xuZWwxMWdtcDM4YXUxYjhjcGJfMjAyMjA0MDZUMTEwMDAwWiBhcm5vbGRAZHNpLXByb2dyYW0uY29t',\n",
              "   'iCalUID': '5uqjvmklnel11gmp38au1b8cpb_R20220401T110000@google.com',\n",
              "   'id': '5uqjvmklnel11gmp38au1b8cpb_20220406T110000Z',\n",
              "   'kind': 'calendar#event',\n",
              "   'organizer': {'email': 'antsa@dsi-program.com'},\n",
              "   'originalStartTime': {'dateTime': '2022-04-06T13:00:00+02:00',\n",
              "    'timeZone': 'America/New_York'},\n",
              "   'recurringEventId': '5uqjvmklnel11gmp38au1b8cpb_R20220401T110000',\n",
              "   'reminders': {'useDefault': True},\n",
              "   'sequence': 0,\n",
              "   'start': {'dateTime': '2022-04-06T13:00:00+02:00',\n",
              "    'timeZone': 'America/New_York'},\n",
              "   'status': 'confirmed',\n",
              "   'summary': 'DSI Module 3 Stand-up',\n",
              "   'updated': '2022-04-01T11:35:08.932Z'},\n",
              "  {'attendees': [{'email': 'bruce.a.bassett@gmail.com',\n",
              "     'responseStatus': 'accepted'},\n",
              "    {'email': 'nadeem@dsi-program.com',\n",
              "     'organizer': True,\n",
              "     'responseStatus': 'accepted'},\n",
              "    {'displayName': 'DSI Tutors',\n",
              "     'email': 'tutors@dsi-program.com',\n",
              "     'responseStatus': 'needsAction'},\n",
              "    {'email': 'datamusing@gmail.com', 'responseStatus': 'accepted'},\n",
              "    {'displayName': 'DSI participants',\n",
              "     'email': 'participants@dsi-program.com',\n",
              "     'responseStatus': 'needsAction'},\n",
              "    {'email': 'arnold@dsi-program.com',\n",
              "     'responseStatus': 'accepted',\n",
              "     'self': True}],\n",
              "   'conferenceData': {'conferenceId': 'cni-udzp-ruo',\n",
              "    'conferenceSolution': {'iconUri': 'https://fonts.gstatic.com/s/i/productlogos/meet_2020q4/v6/web-512dp/logo_meet_2020q4_color_2x_web_512dp.png',\n",
              "     'key': {'type': 'hangoutsMeet'},\n",
              "     'name': 'Google Meet'},\n",
              "    'entryPoints': [{'entryPointType': 'video',\n",
              "      'label': 'meet.google.com/cni-udzp-ruo',\n",
              "      'uri': 'https://meet.google.com/cni-udzp-ruo'},\n",
              "     {'entryPointType': 'more',\n",
              "      'pin': '7531626780911',\n",
              "      'uri': 'https://tel.meet/cni-udzp-ruo?pin=7531626780911'},\n",
              "     {'entryPointType': 'phone',\n",
              "      'label': '+27 10 823 0372',\n",
              "      'pin': '923317677',\n",
              "      'regionCode': 'ZA',\n",
              "      'uri': 'tel:+27-10-823-0372'}],\n",
              "    'signature': 'AKpSKUsGXerqe/Aj6bf+/J1bqRwh'},\n",
              "   'created': '2022-03-30T09:21:05.000Z',\n",
              "   'creator': {'email': 'nadeem@dsi-program.com'},\n",
              "   'description': '<html-blob>Do to an urgent clash we have had to reschedule Sudeep&amp;#39;s seminar. </html-blob>',\n",
              "   'end': {'dateTime': '2022-04-06T18:00:00+02:00',\n",
              "    'timeZone': 'Africa/Johannesburg'},\n",
              "   'etag': '\"3297819000542000\"',\n",
              "   'eventType': 'default',\n",
              "   'hangoutLink': 'https://meet.google.com/cni-udzp-ruo',\n",
              "   'htmlLink': 'https://www.google.com/calendar/event?eid=M3A4dW1tZGVlMW1sNWlpNGw5ZmwyNjYxb3EgYXJub2xkQGRzaS1wcm9ncmFtLmNvbQ',\n",
              "   'iCalUID': '3p8ummdee1ml5ii4l9fl2661oq@google.com',\n",
              "   'id': '3p8ummdee1ml5ii4l9fl2661oq',\n",
              "   'kind': 'calendar#event',\n",
              "   'organizer': {'email': 'nadeem@dsi-program.com'},\n",
              "   'reminders': {'useDefault': True},\n",
              "   'sequence': 1,\n",
              "   'start': {'dateTime': '2022-04-06T17:00:00+02:00',\n",
              "    'timeZone': 'Africa/Johannesburg'},\n",
              "   'status': 'confirmed',\n",
              "   'summary': 'DSI Seminar: Dr Sudeep Das (Netflix) - RL for recommender systems',\n",
              "   'updated': '2022-04-02T14:25:00.271Z'},\n",
              "  {'attendees': [{'email': 'edoardo@dsi-program.com',\n",
              "     'responseStatus': 'accepted'},\n",
              "    {'email': 'antsa@dsi-program.com',\n",
              "     'organizer': True,\n",
              "     'responseStatus': 'accepted'},\n",
              "    {'email': 'arnold@dsi-program.com',\n",
              "     'responseStatus': 'accepted',\n",
              "     'self': True},\n",
              "    {'email': 'mulricharmel@gmail.com', 'responseStatus': 'needsAction'},\n",
              "    {'email': 'nadeem@dsi-program.com', 'responseStatus': 'needsAction'}],\n",
              "   'conferenceData': {'conferenceId': 'gkr-rzbr-vyx',\n",
              "    'conferenceSolution': {'iconUri': 'https://fonts.gstatic.com/s/i/productlogos/meet_2020q4/v6/web-512dp/logo_meet_2020q4_color_2x_web_512dp.png',\n",
              "     'key': {'type': 'hangoutsMeet'},\n",
              "     'name': 'Google Meet'},\n",
              "    'entryPoints': [{'entryPointType': 'video',\n",
              "      'label': 'meet.google.com/gkr-rzbr-vyx',\n",
              "      'uri': 'https://meet.google.com/gkr-rzbr-vyx'},\n",
              "     {'entryPointType': 'more',\n",
              "      'pin': '6332817008342',\n",
              "      'uri': 'https://tel.meet/gkr-rzbr-vyx?pin=6332817008342'},\n",
              "     {'entryPointType': 'phone',\n",
              "      'label': '+27 10 823 0742',\n",
              "      'pin': '440265540',\n",
              "      'regionCode': 'ZA',\n",
              "      'uri': 'tel:+27-10-823-0742'}],\n",
              "    'signature': 'AKpSKUvPDxHxFMaTeQ/DlEL9ayD1'},\n",
              "   'created': '2022-03-30T18:33:49.000Z',\n",
              "   'creator': {'email': 'antsa@dsi-program.com'},\n",
              "   'end': {'dateTime': '2022-04-07T14:00:00+02:00',\n",
              "    'timeZone': 'America/New_York'},\n",
              "   'etag': '\"3297625817864000\"',\n",
              "   'eventType': 'default',\n",
              "   'hangoutLink': 'https://meet.google.com/gkr-rzbr-vyx',\n",
              "   'htmlLink': 'https://www.google.com/calendar/event?eid=NXVxanZta2xuZWwxMWdtcDM4YXUxYjhjcGJfMjAyMjA0MDdUMTEwMDAwWiBhcm5vbGRAZHNpLXByb2dyYW0uY29t',\n",
              "   'iCalUID': '5uqjvmklnel11gmp38au1b8cpb_R20220401T110000@google.com',\n",
              "   'id': '5uqjvmklnel11gmp38au1b8cpb_20220407T110000Z',\n",
              "   'kind': 'calendar#event',\n",
              "   'organizer': {'email': 'antsa@dsi-program.com'},\n",
              "   'originalStartTime': {'dateTime': '2022-04-07T13:00:00+02:00',\n",
              "    'timeZone': 'America/New_York'},\n",
              "   'recurringEventId': '5uqjvmklnel11gmp38au1b8cpb_R20220401T110000',\n",
              "   'reminders': {'useDefault': True},\n",
              "   'sequence': 0,\n",
              "   'start': {'dateTime': '2022-04-07T13:00:00+02:00',\n",
              "    'timeZone': 'America/New_York'},\n",
              "   'status': 'confirmed',\n",
              "   'summary': 'DSI Module 3 Stand-up',\n",
              "   'updated': '2022-04-01T11:35:08.932Z'},\n",
              "  {'attendees': [{'email': 'edoardo@dsi-program.com',\n",
              "     'responseStatus': 'accepted'},\n",
              "    {'email': 'antsa@dsi-program.com',\n",
              "     'organizer': True,\n",
              "     'responseStatus': 'accepted'},\n",
              "    {'email': 'arnold@dsi-program.com',\n",
              "     'responseStatus': 'accepted',\n",
              "     'self': True},\n",
              "    {'email': 'mulricharmel@gmail.com', 'responseStatus': 'needsAction'},\n",
              "    {'email': 'nadeem@dsi-program.com', 'responseStatus': 'needsAction'}],\n",
              "   'conferenceData': {'conferenceId': 'gkr-rzbr-vyx',\n",
              "    'conferenceSolution': {'iconUri': 'https://fonts.gstatic.com/s/i/productlogos/meet_2020q4/v6/web-512dp/logo_meet_2020q4_color_2x_web_512dp.png',\n",
              "     'key': {'type': 'hangoutsMeet'},\n",
              "     'name': 'Google Meet'},\n",
              "    'entryPoints': [{'entryPointType': 'video',\n",
              "      'label': 'meet.google.com/gkr-rzbr-vyx',\n",
              "      'uri': 'https://meet.google.com/gkr-rzbr-vyx'},\n",
              "     {'entryPointType': 'more',\n",
              "      'pin': '6332817008342',\n",
              "      'uri': 'https://tel.meet/gkr-rzbr-vyx?pin=6332817008342'},\n",
              "     {'entryPointType': 'phone',\n",
              "      'label': '+27 10 823 0742',\n",
              "      'pin': '440265540',\n",
              "      'regionCode': 'ZA',\n",
              "      'uri': 'tel:+27-10-823-0742'}],\n",
              "    'signature': 'AKpSKUvPDxHxFMaTeQ/DlEL9ayD1'},\n",
              "   'created': '2022-03-30T18:33:49.000Z',\n",
              "   'creator': {'email': 'antsa@dsi-program.com'},\n",
              "   'end': {'dateTime': '2022-04-08T14:00:00+02:00',\n",
              "    'timeZone': 'America/New_York'},\n",
              "   'etag': '\"3297625817864000\"',\n",
              "   'eventType': 'default',\n",
              "   'hangoutLink': 'https://meet.google.com/gkr-rzbr-vyx',\n",
              "   'htmlLink': 'https://www.google.com/calendar/event?eid=NXVxanZta2xuZWwxMWdtcDM4YXUxYjhjcGJfMjAyMjA0MDhUMTEwMDAwWiBhcm5vbGRAZHNpLXByb2dyYW0uY29t',\n",
              "   'iCalUID': '5uqjvmklnel11gmp38au1b8cpb_R20220401T110000@google.com',\n",
              "   'id': '5uqjvmklnel11gmp38au1b8cpb_20220408T110000Z',\n",
              "   'kind': 'calendar#event',\n",
              "   'organizer': {'email': 'antsa@dsi-program.com'},\n",
              "   'originalStartTime': {'dateTime': '2022-04-08T13:00:00+02:00',\n",
              "    'timeZone': 'America/New_York'},\n",
              "   'recurringEventId': '5uqjvmklnel11gmp38au1b8cpb_R20220401T110000',\n",
              "   'reminders': {'useDefault': True},\n",
              "   'sequence': 0,\n",
              "   'start': {'dateTime': '2022-04-08T13:00:00+02:00',\n",
              "    'timeZone': 'America/New_York'},\n",
              "   'status': 'confirmed',\n",
              "   'summary': 'DSI Module 3 Stand-up',\n",
              "   'updated': '2022-04-01T11:35:08.932Z'},\n",
              "  {'attendees': [{'email': 'edoardo@dsi-program.com',\n",
              "     'responseStatus': 'accepted'},\n",
              "    {'email': 'antsa@dsi-program.com',\n",
              "     'organizer': True,\n",
              "     'responseStatus': 'accepted'},\n",
              "    {'email': 'arnold@dsi-program.com',\n",
              "     'responseStatus': 'accepted',\n",
              "     'self': True},\n",
              "    {'email': 'mulricharmel@gmail.com', 'responseStatus': 'needsAction'},\n",
              "    {'email': 'nadeem@dsi-program.com', 'responseStatus': 'needsAction'}],\n",
              "   'conferenceData': {'conferenceId': 'gkr-rzbr-vyx',\n",
              "    'conferenceSolution': {'iconUri': 'https://fonts.gstatic.com/s/i/productlogos/meet_2020q4/v6/web-512dp/logo_meet_2020q4_color_2x_web_512dp.png',\n",
              "     'key': {'type': 'hangoutsMeet'},\n",
              "     'name': 'Google Meet'},\n",
              "    'entryPoints': [{'entryPointType': 'video',\n",
              "      'label': 'meet.google.com/gkr-rzbr-vyx',\n",
              "      'uri': 'https://meet.google.com/gkr-rzbr-vyx'},\n",
              "     {'entryPointType': 'more',\n",
              "      'pin': '6332817008342',\n",
              "      'uri': 'https://tel.meet/gkr-rzbr-vyx?pin=6332817008342'},\n",
              "     {'entryPointType': 'phone',\n",
              "      'label': '+27 10 823 0742',\n",
              "      'pin': '440265540',\n",
              "      'regionCode': 'ZA',\n",
              "      'uri': 'tel:+27-10-823-0742'}],\n",
              "    'signature': 'AKpSKUvPDxHxFMaTeQ/DlEL9ayD1'},\n",
              "   'created': '2022-03-30T18:33:49.000Z',\n",
              "   'creator': {'email': 'antsa@dsi-program.com'},\n",
              "   'end': {'dateTime': '2022-04-09T14:00:00+02:00',\n",
              "    'timeZone': 'America/New_York'},\n",
              "   'etag': '\"3297625817864000\"',\n",
              "   'eventType': 'default',\n",
              "   'hangoutLink': 'https://meet.google.com/gkr-rzbr-vyx',\n",
              "   'htmlLink': 'https://www.google.com/calendar/event?eid=NXVxanZta2xuZWwxMWdtcDM4YXUxYjhjcGJfMjAyMjA0MDlUMTEwMDAwWiBhcm5vbGRAZHNpLXByb2dyYW0uY29t',\n",
              "   'iCalUID': '5uqjvmklnel11gmp38au1b8cpb_R20220401T110000@google.com',\n",
              "   'id': '5uqjvmklnel11gmp38au1b8cpb_20220409T110000Z',\n",
              "   'kind': 'calendar#event',\n",
              "   'organizer': {'email': 'antsa@dsi-program.com'},\n",
              "   'originalStartTime': {'dateTime': '2022-04-09T13:00:00+02:00',\n",
              "    'timeZone': 'America/New_York'},\n",
              "   'recurringEventId': '5uqjvmklnel11gmp38au1b8cpb_R20220401T110000',\n",
              "   'reminders': {'useDefault': True},\n",
              "   'sequence': 0,\n",
              "   'start': {'dateTime': '2022-04-09T13:00:00+02:00',\n",
              "    'timeZone': 'America/New_York'},\n",
              "   'status': 'confirmed',\n",
              "   'summary': 'DSI Module 3 Stand-up',\n",
              "   'updated': '2022-04-01T11:35:08.932Z'}],\n",
              " 'kind': 'calendar#events',\n",
              " 'nextPageToken': 'EjYKKzV1cWp2bWtsbmVsMTFnbXAzOGF1MWI4Y3BiXzIwMjIwNDA5VDExMDAwMFoYgOitz4SH9wIiBwgFEPHjhCI=',\n",
              " 'summary': 'arnold@dsi-program.com',\n",
              " 'timeZone': 'Africa/Maputo',\n",
              " 'updated': '2022-04-05T07:57:55.412Z'}"
            ]
          },
          "metadata": {},
          "execution_count": 7
        }
      ]
    },
    {
      "cell_type": "code",
      "source": [
        "# Pick up only start time, end time and summary info\n",
        "events = events_result.get('items', [])\n",
        "formatted_events = [(event['start'].get('dateTime', event['start'].get('date')), # start time or day\n",
        "     event['end'].get('dateTime', event['end'].get('date')), # end time or day\n",
        "     event['summary']) for event in events]\n",
        "#formatted_events\n",
        "for event in formatted_events:\n",
        "  print(event, \"\\n\")"
      ],
      "metadata": {
        "colab": {
          "base_uri": "https://localhost:8080/"
        },
        "id": "TUQB4qpJXzU0",
        "outputId": "ca14e555-21bd-45bb-9b1a-c71279999ad0"
      },
      "execution_count": 8,
      "outputs": [
        {
          "output_type": "stream",
          "name": "stdout",
          "text": [
            "('2022-04-06T13:00:00+02:00', '2022-04-06T14:00:00+02:00', 'DSI Module 3 Stand-up') \n",
            "\n",
            "('2022-04-06T17:00:00+02:00', '2022-04-06T18:00:00+02:00', 'DSI Seminar: Dr Sudeep Das (Netflix) - RL for recommender systems') \n",
            "\n",
            "('2022-04-07T13:00:00+02:00', '2022-04-07T14:00:00+02:00', 'DSI Module 3 Stand-up') \n",
            "\n",
            "('2022-04-08T13:00:00+02:00', '2022-04-08T14:00:00+02:00', 'DSI Module 3 Stand-up') \n",
            "\n",
            "('2022-04-09T13:00:00+02:00', '2022-04-09T14:00:00+02:00', 'DSI Module 3 Stand-up') \n",
            "\n"
          ]
        }
      ]
    },
    {
      "cell_type": "markdown",
      "source": [
        "### MORE NLP Queries (Antsa)"
      ],
      "metadata": {
        "id": "2hPD7TP8ZBFV"
      }
    },
    {
      "cell_type": "markdown",
      "source": [
        "##### What is the next task of the day"
      ],
      "metadata": {
        "id": "bEBDhM11gL0e"
      }
    },
    {
      "cell_type": "code",
      "source": [
        "# Next event\n",
        "try:\n",
        "  now = datetime.datetime.utcnow().isoformat() + 'Z'\n",
        "  events_result = service.events().list(\n",
        "      calendarId=calendar_id, timeMin=now,\n",
        "      maxResults=1, singleEvents=True,\n",
        "      orderBy='startTime').execute()\n",
        "\n",
        "  events = events_result.get('items', [])\n",
        "  #tmfmt = '%d %B, %H:%M %p'\n",
        "  tf = '%H:%M %p'\n",
        "  response = [(event['summary'], \n",
        "              event['start'].get('dateTime', event['start'].get('date')), \n",
        "              event['end'].get('dateTime', event['end'].get('date'))) for event in events][0]\n",
        "              \n",
        "  print(\"Your next meeting is\", response[0], \". It starts at\", dt.strftime(dtparse(response[1]), format=tf))\n",
        "except:\n",
        "  print(\"You dont have meetings left today\")\n",
        "\n",
        "# formatted_events = [(event['start'].get('dateTime', event['start'].get('date')), # start time or day\n",
        "#      event['end'].get('dateTime', event['end'].get('date')), # end time or day\n",
        "#      event['summary']) for event in events]"
      ],
      "metadata": {
        "id": "dF9HkD6qYeWs",
        "colab": {
          "base_uri": "https://localhost:8080/"
        },
        "outputId": "7b5f0346-bdb5-43e1-9cd5-e11724e6fcfc"
      },
      "execution_count": 20,
      "outputs": [
        {
          "output_type": "stream",
          "name": "stdout",
          "text": [
            "Your next meeting is DSI Module 3 Stand-up . It starts at 13:00 PM\n"
          ]
        }
      ]
    },
    {
      "cell_type": "markdown",
      "source": [
        "##### What meetings do i have tomorrow"
      ],
      "metadata": {
        "id": "bEqVdI2VO8Fu"
      }
    },
    {
      "cell_type": "code",
      "source": [
        "tomorrow_start = (datetime.date.today() + datetime.timedelta(days=1)).isoformat() + 'T00:00:0.0Z'\n",
        "tomorrow_end = (datetime.date.today() + datetime.timedelta(days=1)).isoformat() + 'T23:59:0.0Z'\n",
        "\n",
        "events_result = service.events().list(\n",
        "     calendarId=calendar_id, timeMin=tomorrow_start, timeMax=tomorrow_end,\n",
        "     maxResults=10, singleEvents=True,\n",
        "     orderBy='startTime').execute()\n",
        "\n",
        "events = events_result.get('items', [])\n",
        "\n",
        "tf = '%H:%M %p'\n",
        "response = [(event['summary'], \n",
        "             event['start'].get('dateTime', event['start'].get('date')), \n",
        "             event['end'].get('dateTime', event['end'].get('date'))) for event in events]\n",
        "\n",
        "print(\"Your tomorow's events are as follows: \", [(response[0][0],'at', dt.strftime(dtparse(response[0][1]), format=tf)) for item in response])"
      ],
      "metadata": {
        "colab": {
          "base_uri": "https://localhost:8080/"
        },
        "id": "NHq09RZOii7T",
        "outputId": "ff0f7879-f719-4638-c4c5-ddd1a4fa42c5"
      },
      "execution_count": 19,
      "outputs": [
        {
          "output_type": "stream",
          "name": "stdout",
          "text": [
            "Your tomorow's events are as follows:  [('DSI Module 3 Stand-up', 'at', '13:00 PM')]\n"
          ]
        }
      ]
    },
    {
      "cell_type": "markdown",
      "source": [
        "###### How many events do i have next week"
      ],
      "metadata": {
        "id": "T8zqPwQCQ0td"
      }
    },
    {
      "cell_type": "code",
      "source": [
        "one_day = datetime.timedelta(days=1)\n",
        "\n",
        "def get_week(date):\n",
        "  \"\"\"Return the full week (Sunday first) of the week containing the given date.\n",
        "\n",
        "  'date' may be a datetime or date instance (the same type is returned).\n",
        "  \"\"\"\n",
        "  day_idx = (date.weekday() + 1) % 7  # turn sunday into 0, monday into 1, etc.\n",
        "  sunday = date - datetime.timedelta(days=day_idx)\n",
        "  date = sunday\n",
        "  for n in range(7):\n",
        "    yield date\n",
        "    date += one_day\n",
        "\n",
        "this_week = [d.isoformat() for d in get_week(datetime.datetime.now().date())]\n",
        "\n",
        "week_start_date = this_week[0] + 'T00:00:0.0Z'\n",
        "week_end_date = this_week[-1] + 'T23:59:0.0Z'\n",
        "\n",
        "events_result = service.events().list(\n",
        "     calendarId=calendar_id, timeMin=week_start_date, timeMax=week_end_date,\n",
        "     maxResults=100, singleEvents=True,\n",
        "     orderBy='startTime').execute()\n",
        "\n",
        "events = events_result.get('items', [])\n",
        "print('You have ', len(events), 'this week.')"
      ],
      "metadata": {
        "colab": {
          "base_uri": "https://localhost:8080/"
        },
        "id": "i1PUqLpzPUyJ",
        "outputId": "9859de94-2b97-4cb8-fe88-2dfd470b6915"
      },
      "execution_count": 26,
      "outputs": [
        {
          "output_type": "stream",
          "name": "stdout",
          "text": [
            "You have  11 this week.\n"
          ]
        }
      ]
    },
    {
      "cell_type": "code",
      "source": [
        ""
      ],
      "metadata": {
        "id": "4Bhju567J-Wj"
      },
      "execution_count": null,
      "outputs": []
    }
  ]
}