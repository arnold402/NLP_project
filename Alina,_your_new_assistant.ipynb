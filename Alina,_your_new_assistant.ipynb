{
  "nbformat": 4,
  "nbformat_minor": 0,
  "metadata": {
    "colab": {
      "name": "Alina, your new assistant.ipynb",
      "provenance": [],
      "authorship_tag": "ABX9TyPiCJNE7k1QaIwwZU0MS397",
      "include_colab_link": true
    },
    "kernelspec": {
      "name": "python3",
      "display_name": "Python 3"
    },
    "language_info": {
      "name": "python"
    }
  },
  "cells": [
    {
      "cell_type": "markdown",
      "metadata": {
        "id": "view-in-github",
        "colab_type": "text"
      },
      "source": [
        "<a href=\"https://colab.research.google.com/github/arnold402/NLP_project/blob/main/Alina%2C_your_new_assistant.ipynb\" target=\"_parent\"><img src=\"https://colab.research.google.com/assets/colab-badge.svg\" alt=\"Open In Colab\"/></a>"
      ]
    },
    {
      "cell_type": "markdown",
      "source": [
        "\n",
        "# Meet Alina, your new assistant\n",
        "\n",
        "\n",
        "A NLP project for DSI Africa 2022 module 3 by Antsa, Arnold and Ulrich, tutored by Edoardo.\n",
        "\n",
        "Why would you miss your important meeting/seminars/lecture if you can be updated on all events of your DSI calendar by asking a chatbot ?\n",
        "\n",
        "Alina is a simple chatbot that interacts with google calendar. The code consists of 3 main parts: a chatbot section, an nlp section and a google calendar query API section.\n",
        "\n",
        "The chatbot setion using google speech recogniton to listen the to users input and also to speak to the user (by converting text to speech). The chatbot currently supports English and French. The chatbot, which is called Alina, can be awakened using any of the following phrases \"Hi Alina\", \"Hey Alina\" or \"Bonjour Alina\" (for french). Based on the wake-up phrase, we choose the chatbot sets the default language it expects to be either English or French. The chatbot can ended be using any phrase that involves \"bye\" or \"Au Revoir\".\n",
        "\n",
        "The chatbot listens to any user and converts any input phrase to a text (string). The spoken text is then passed to the machine learning model, which tries to identify what is the user's query. For this purpose, we used a multilingual model pre-trained on 15 languages to encode the input sentence from the user. This sentence is then compared against our database's English and French encodings of various sentences. Each of these sentences represents a query that the assistant can perform. We use a cosine distance as a similarity metric between the new sentence encoding and all the sentences in our database. The query for the sentence with the maximum distance is selected. We also set a threshold only to validate the query if the maximum distance is at aleast 0.5 (as the cosine similarity ranges from 0 to 1).\n",
        "\n",
        "Finally, the selected query is implemented using functionalities from google calendar API. The API requires the user to provide a credentials file to allow the app to access their google calendar. Furthermore, a little bit of string manipulations and regular expressions (handle by the dateutil package) is required to capture dates and time information from the input sentence. The queried information from the google calendar is then passed to the text-to-speech functionality of the chatbot to respond to the user."
      ],
      "metadata": {
        "id": "JKLhvJf7phtk"
      }
    },
    {
      "cell_type": "markdown",
      "source": [
        "The chatbot has two different version, the one running in a local machine which can be implemented via following the read.me file of this repository and a one that is running in Colab Notebook, which you are currently reading.\n",
        "\n",
        "Some changes were made to adapt to the fact that the speach recognition for the chatbot itself could not access the local microphone of our computer.\n",
        "\n",
        "\n",
        "The chatbot was inspired by [this Medium article](https://towardsdatascience.com/ai-chatbot-with-nlp-speech-recognition-transformers-583716a299e9), the Google API codes from [this tutorial](https://www.codespeedy.com/access-google-calendar-data-with-python/). \n",
        "\n",
        "\n",
        "To access the microphone, we used code from [this notebook](https://colab.research.google.com/github/snakers4/silero-models/blob/master/examples.ipynb#scrollTo=jc7ZqfooYZnD)."
      ],
      "metadata": {
        "id": "bTAxak5Bp-wa"
      }
    },
    {
      "cell_type": "markdown",
      "source": [
        "### Getting ready...let us prepare ourself"
      ],
      "metadata": {
        "id": "qq_y0kNHsOfj"
      }
    },
    {
      "cell_type": "markdown",
      "source": [
        "First of all, I will be mounting my google drive where I stored my credential for my calendar."
      ],
      "metadata": {
        "id": "nMLO4G2AroX0"
      }
    },
    {
      "cell_type": "code",
      "execution_count": 1,
      "metadata": {
        "colab": {
          "base_uri": "https://localhost:8080/"
        },
        "id": "aBbqSOWCpGql",
        "outputId": "09fbb4f7-9fca-4d69-ae08-a2294d4157ab"
      },
      "outputs": [
        {
          "output_type": "stream",
          "name": "stdout",
          "text": [
            "Mounted at /content/gdrive\n"
          ]
        }
      ],
      "source": [
        "from google.colab import drive\n",
        "drive.mount('/content/gdrive', force_remount=True)"
      ]
    },
    {
      "cell_type": "code",
      "source": [
        "cd /content/gdrive/MyDrive/Calendar"
      ],
      "metadata": {
        "colab": {
          "base_uri": "https://localhost:8080/"
        },
        "id": "h2p8H9GEpnGr",
        "outputId": "18da47be-ce6e-43cf-9363-8240030f4ea3"
      },
      "execution_count": 2,
      "outputs": [
        {
          "output_type": "stream",
          "name": "stdout",
          "text": [
            "/content/gdrive/MyDrive/Calendar\n"
          ]
        }
      ]
    },
    {
      "cell_type": "markdown",
      "source": [
        "Then let us install the requirements. "
      ],
      "metadata": {
        "id": "g32XCxfrstN9"
      }
    },
    {
      "cell_type": "code",
      "source": [
        "# !pip install google-api-core==2.5.0\n",
        "# !pip install google-api-python-client==1.12.10\n",
        "# !pip install google-auth==2.3.3\n",
        "# !pip install google-auth-httplib2==0.1.0\n",
        "# !pip install google-auth-oauthlib==0.4.6\n",
        "# !pip install google-images-download==2.8.0\n",
        "# !pip install google-pasta==0.2.0\n",
        "# !pip install googleapis-common-protos==1.54.0\n",
        "# !pip install sentence-transformers\n",
        "# !pip install SpeechRecognition\n",
        "# !pip install gTTS\n",
        "# !pip install transformers\n",
        "# !apt install libasound2-dev portaudio19-dev libportaudio2 libportaudiocpp0 ffmpeg\n",
        "# !pip install PyAudio\n",
        "# !pip install fasttext"
      ],
      "metadata": {
        "id": "kQeErYuks5fk"
      },
      "execution_count": null,
      "outputs": []
    },
    {
      "cell_type": "markdown",
      "source": [
        "Now, we are going to get the pretrained model we will be using."
      ],
      "metadata": {
        "id": "Cgew2IMtuX0f"
      }
    },
    {
      "cell_type": "code",
      "source": [
        "# !wget -P /content/gdrive/MyDrive/Calendar/model/ https://dl.fbaipublicfiles.com/fasttext/supervised-models/lid.176.bin\n"
      ],
      "metadata": {
        "colab": {
          "base_uri": "https://localhost:8080/"
        },
        "id": "Hac4M4wLseGt",
        "outputId": "de04ca0c-1dbc-4948-ecdd-d9859da3af05"
      },
      "execution_count": 3,
      "outputs": [
        {
          "output_type": "stream",
          "name": "stdout",
          "text": [
            "--2022-04-11 22:35:08--  https://dl.fbaipublicfiles.com/fasttext/supervised-models/lid.176.bin\n",
            "Resolving dl.fbaipublicfiles.com (dl.fbaipublicfiles.com)... 104.22.75.142, 172.67.9.4, 104.22.74.142, ...\n",
            "Connecting to dl.fbaipublicfiles.com (dl.fbaipublicfiles.com)|104.22.75.142|:443... connected.\n",
            "HTTP request sent, awaiting response... 200 OK\n",
            "Length: 131266198 (125M) [application/octet-stream]\n",
            "Saving to: ‘/content/gdrive/MyDrive/Calendar/model/lid.176.bin’\n",
            "\n",
            "lid.176.bin         100%[===================>] 125.18M  36.5MB/s    in 4.0s    \n",
            "\n",
            "2022-04-11 22:35:13 (31.1 MB/s) - ‘/content/gdrive/MyDrive/Calendar/model/lid.176.bin’ saved [131266198/131266198]\n",
            "\n"
          ]
        }
      ]
    },
    {
      "cell_type": "code",
      "source": [
        "ls  model/"
      ],
      "metadata": {
        "colab": {
          "base_uri": "https://localhost:8080/"
        },
        "id": "Q2zNNBKzueot",
        "outputId": "51db8bf6-6115-4a1d-d217-15ce0d3f713a"
      },
      "execution_count": 4,
      "outputs": [
        {
          "output_type": "stream",
          "name": "stdout",
          "text": [
            "lid.176.bin\n"
          ]
        }
      ]
    },
    {
      "cell_type": "markdown",
      "source": [
        "Now that we have all our requirements and downloaded the model, we are ready to go."
      ],
      "metadata": {
        "id": "feqYHhq4xGvG"
      }
    },
    {
      "cell_type": "code",
      "source": [
        ""
      ],
      "metadata": {
        "id": "4BC-Cmwtu8KV"
      },
      "execution_count": null,
      "outputs": []
    },
    {
      "cell_type": "code",
      "source": [
        ""
      ],
      "metadata": {
        "id": "Xo4EhRyavqi-"
      },
      "execution_count": null,
      "outputs": []
    },
    {
      "cell_type": "markdown",
      "source": [
        "### dd"
      ],
      "metadata": {
        "id": "j3Sc0nOPxQZG"
      }
    },
    {
      "cell_type": "code",
      "source": [
        ""
      ],
      "metadata": {
        "id": "3RFQ6z7KxPQe"
      },
      "execution_count": null,
      "outputs": []
    }
  ]
}